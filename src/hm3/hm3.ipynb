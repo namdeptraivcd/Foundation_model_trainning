{
 "cells": [
  {
   "cell_type": "markdown",
   "metadata": {},
   "source": [
    "# Đề bài về nhà"
   ]
  },
  {
   "cell_type": "markdown",
   "metadata": {},
   "source": [
    "## Yêu cầu"
   ]
  },
  {
   "cell_type": "markdown",
   "metadata": {},
   "source": [
    "- Tự viết code cho mô hình Linear Regression theo công thức đã được dạy trong buổi lý thuyết trên lớp.\n",
    "- Tự viết hàm dự đoán.\n",
    "- Huấn luyện cả mô hình của thư viện và mô hình mình tự viết.\n",
    "- In ra các trọng số: w0, w1, w2, ..., wn của cả 2 mô hình đã huấn luyện để quan sát và so sánh.\n",
    "- Dự đoán dữ liệu tập test bằng cả 2 mô hình (mô hình thư viện thì dùng hàm predict() của thư viện, mô hình tự viết dùng hàm dự đoán tự viết), in ra kết quả bằng Dataframe như trong bài thực hành trên lớp.\n",
    "- Tính RMSE trên tập test cho cả 2 mô hình và so sánh."
   ]
  },
  {
   "cell_type": "markdown",
   "metadata": {},
   "source": [
    "## Dữ liệu "
   ]
  },
  {
   "cell_type": "markdown",
   "metadata": {},
   "source": [
    "Tập dữ liệu giá nhà ở Boston đã có sẵn trên sklearn, dữ liệu đã được chuẩn hóa và chia thành tập train, tập test"
   ]
  },
  {
   "cell_type": "code",
   "execution_count": 1,
   "metadata": {},
   "outputs": [
    {
     "name": "stdout",
     "output_type": "stream",
     "text": [
      "Intel MKL WARNING: Support of Intel(R) Streaming SIMD Extensions 4.2 (Intel(R) SSE4.2) enabled only processors has been deprecated. Intel oneAPI Math Kernel Library 2025.0 will require Intel(R) Advanced Vector Extensions (Intel(R) AVX) instructions.\n",
      "Intel MKL WARNING: Support of Intel(R) Streaming SIMD Extensions 4.2 (Intel(R) SSE4.2) enabled only processors has been deprecated. Intel oneAPI Math Kernel Library 2025.0 will require Intel(R) Advanced Vector Extensions (Intel(R) AVX) instructions.\n"
     ]
    }
   ],
   "source": [
    "import matplotlib.pyplot as plt\n",
    "import numpy as np\n",
    "import pandas as pd \n",
    "import math \n",
    "\n",
    "from sklearn import datasets, linear_model\n",
    "from sklearn.metrics import mean_squared_error, r2_score"
   ]
  },
  {
   "cell_type": "markdown",
   "metadata": {},
   "source": [
    "# Đọc dữ liệu \n",
    "\n",
    "Dữ liệu về giá nhà ở Boston được hỗ trợ bởi sklearn, đọc dữ liệu thông qua hàm `datasets.load_boston()` \n",
    "\n",
    "Xem thêm các bộ dữ liệu khác tại https://scikit-learn.org/stable/datasets/index.html#toy-datasets. \n",
    "\n",
    "Dữ liệu được chia thành các thành phần data và target như tập diabetes. Dữ liệu cũng đã được chuẩn hóa, chỉ cần gọi ra và huấn luyện"
   ]
  },
  {
   "cell_type": "code",
   "execution_count": 5,
   "metadata": {},
   "outputs": [
    {
     "name": "stdout",
     "output_type": "stream",
     "text": [
      "Số chiều dữ liệu input:  (20640, 8)\n",
      "Số chiều dữ liệu target:  (20640,)\n",
      "\n",
      "5 mẫu dữ liệu đầu tiên:\n",
      "input:  [[ 8.32520000e+00  4.10000000e+01  6.98412698e+00  1.02380952e+00\n",
      "   3.22000000e+02  2.55555556e+00  3.78800000e+01 -1.22230000e+02]\n",
      " [ 8.30140000e+00  2.10000000e+01  6.23813708e+00  9.71880492e-01\n",
      "   2.40100000e+03  2.10984183e+00  3.78600000e+01 -1.22220000e+02]\n",
      " [ 7.25740000e+00  5.20000000e+01  8.28813559e+00  1.07344633e+00\n",
      "   4.96000000e+02  2.80225989e+00  3.78500000e+01 -1.22240000e+02]\n",
      " [ 5.64310000e+00  5.20000000e+01  5.81735160e+00  1.07305936e+00\n",
      "   5.58000000e+02  2.54794521e+00  3.78500000e+01 -1.22250000e+02]\n",
      " [ 3.84620000e+00  5.20000000e+01  6.28185328e+00  1.08108108e+00\n",
      "   5.65000000e+02  2.18146718e+00  3.78500000e+01 -1.22250000e+02]]\n",
      "target:  [4.526 3.585 3.521 3.413 3.422]\n"
     ]
    }
   ],
   "source": [
    "# lay du lieu dataset - du lieu ve giá nhà\n",
    "dataset = datasets.fetch_california_housing   ()\n",
    "print(\"Số chiều dữ liệu input: \", dataset.data.shape)\n",
    "print(\"Số chiều dữ liệu target: \", dataset.target.shape)\n",
    "print()\n",
    "\n",
    "print(\"5 mẫu dữ liệu đầu tiên:\")\n",
    "print(\"input: \", dataset.data[:5])\n",
    "print(\"target: \",dataset.target[:5])"
   ]
  },
  {
   "cell_type": "markdown",
   "metadata": {},
   "source": [
    "**Chia dữ liệu làm 2 phần training 120 mẫu và testing 30 mẫu** "
   ]
  },
  {
   "cell_type": "code",
   "execution_count": 12,
   "metadata": {},
   "outputs": [],
   "source": [
    "# cat nho du lieu, lay 1 phan cho qua trinh thu nghiem,\n",
    "# chia train test cac mau du lieu\n",
    "# dataset_X = dataset.data[:, np.newaxis, 2]\n",
    "dataset_X = dataset.data\n",
    "\n",
    "dataset_X_train = dataset_X[:400]\n",
    "dataset_y_train = dataset.target[:400]\n",
    "\n",
    "dataset_X_test = dataset_X[400:500]\n",
    "dataset_y_test = dataset.target[400:500]"
   ]
  },
  {
   "cell_type": "markdown",
   "metadata": {},
   "source": [
    "# Xây dựng mô hình"
   ]
  },
  {
   "cell_type": "markdown",
   "metadata": {},
   "source": [
    "## Xây dựng mô hình bằng thư viện"
   ]
  },
  {
   "cell_type": "code",
   "execution_count": 6,
   "metadata": {},
   "outputs": [],
   "source": [
    "model = linear_model.LinearRegression()"
   ]
  },
  {
   "cell_type": "markdown",
   "metadata": {},
   "source": [
    "## Xây dựng mô hình Linear Regression tự viết "
   ]
  },
  {
   "cell_type": "code",
   "execution_count": 25,
   "metadata": {},
   "outputs": [
    {
     "name": "stdout",
     "output_type": "stream",
     "text": [
      "(400,)\n"
     ]
    }
   ],
   "source": [
    "def linear_regression(dataset_X_train, dataset_y_train):\n",
    "    one = np.ones((dataset_y_train.shape[0], 1))\n",
    "\n",
    "    X_bar = np.concatenate((one, dataset_X_train), axis =1)\n",
    "    A = np.dot(X_bar.T, X_bar)\n",
    "    b = np.dot(X_bar.T, dataset_y_train)\n",
    "\n",
    "    w = np.dot(np.linalg.pinv(A), b)\n",
    "\n",
    "    coef = w[1:]\n",
    "    intercept = w[0]\n",
    "    return coef, intercept\n",
    "\n",
    "one = np.ones(dataset_y_train.shape)\n",
    "print(one.shape)\n",
    "\n",
    "    \n",
    "    "
   ]
  },
  {
   "cell_type": "markdown",
   "metadata": {},
   "source": [
    "## Hàm test mô hình tự viết"
   ]
  },
  {
   "cell_type": "code",
   "execution_count": 31,
   "metadata": {},
   "outputs": [],
   "source": [
    "def predict(coef, intercept, dataset_X_test):\n",
    "    y_pred =[]\n",
    "    for i in range(len(dataset_X_test)):\n",
    "        prediction = intercept + np.dot(coef, dataset_X_test[i].T)\n",
    "        y_pred.append(prediction)\n",
    "    return y_pred\n"
   ]
  },
  {
   "cell_type": "markdown",
   "metadata": {},
   "source": [
    "# Huấn luyện mô hình"
   ]
  },
  {
   "cell_type": "markdown",
   "metadata": {},
   "source": [
    "## Huấn luyện mô hình của thư viện"
   ]
  },
  {
   "cell_type": "code",
   "execution_count": 28,
   "metadata": {},
   "outputs": [
    {
     "name": "stdout",
     "output_type": "stream",
     "text": [
      "Coefficient:  [ 3.08179744e-01 -5.31027229e-03  2.02297445e-02 -8.23373206e-01\n",
      "  1.13724741e-04 -7.89414577e-02  9.52261554e+00  1.79397496e+00]\n",
      "w0:  -138.79854183656886\n"
     ]
    }
   ],
   "source": [
    "def train_model_by_sklearn(model, dataset_X_train, dataset_y_train):\n",
    "    model.fit(dataset_X_train, dataset_y_train)\n",
    "    print(\"Coefficient: \", model.coef_)\n",
    "    print(\"w0: \", model.intercept_)\n",
    "\n",
    "train_model_by_sklearn(model, dataset_X_train, dataset_y_train)\n",
    "    "
   ]
  },
  {
   "cell_type": "markdown",
   "metadata": {},
   "source": [
    "## Training mô hình bằng Linear regression tự viết"
   ]
  },
  {
   "cell_type": "code",
   "execution_count": 27,
   "metadata": {},
   "outputs": [
    {
     "name": "stdout",
     "output_type": "stream",
     "text": [
      "Intel MKL WARNING: Support of Intel(R) Streaming SIMD Extensions 4.2 (Intel(R) SSE4.2) enabled only processors has been deprecated. Intel oneAPI Math Kernel Library 2025.0 will require Intel(R) Advanced Vector Extensions (Intel(R) AVX) instructions.\n",
      "Coefficient:  [ 3.08179727e-01 -5.31027174e-03  2.02297267e-02 -8.23373056e-01\n",
      "  1.13724731e-04 -7.89414533e-02  9.52261781e+00  1.79397744e+00]\n",
      "w0:  -138.79832479916513\n"
     ]
    }
   ],
   "source": [
    "coef, intercept = linear_regression(dataset_X_train, dataset_y_train)\n",
    "print(\"Coefficient: \", coef)\n",
    "print(\"w0: \", intercept)"
   ]
  },
  {
   "cell_type": "markdown",
   "metadata": {},
   "source": [
    "# Dự đoán các mẫu dữ liệu"
   ]
  },
  {
   "cell_type": "markdown",
   "metadata": {},
   "source": [
    "## Dự đoán các mẫu dữ liệu theo mô hình của thư viện"
   ]
  },
  {
   "cell_type": "code",
   "execution_count": 37,
   "metadata": {},
   "outputs": [
    {
     "data": {
      "text/html": [
       "<div>\n",
       "<style scoped>\n",
       "    .dataframe tbody tr th:only-of-type {\n",
       "        vertical-align: middle;\n",
       "    }\n",
       "\n",
       "    .dataframe tbody tr th {\n",
       "        vertical-align: top;\n",
       "    }\n",
       "\n",
       "    .dataframe thead th {\n",
       "        text-align: right;\n",
       "    }\n",
       "</style>\n",
       "<table border=\"1\" class=\"dataframe\">\n",
       "  <thead>\n",
       "    <tr style=\"text-align: right;\">\n",
       "      <th></th>\n",
       "      <th>Real</th>\n",
       "      <th>Predict</th>\n",
       "      <th>Difference</th>\n",
       "    </tr>\n",
       "  </thead>\n",
       "  <tbody>\n",
       "    <tr>\n",
       "      <th>0</th>\n",
       "      <td>2.613</td>\n",
       "      <td>2.786964</td>\n",
       "      <td>0.173964</td>\n",
       "    </tr>\n",
       "    <tr>\n",
       "      <th>1</th>\n",
       "      <td>2.322</td>\n",
       "      <td>3.126065</td>\n",
       "      <td>0.804065</td>\n",
       "    </tr>\n",
       "    <tr>\n",
       "      <th>2</th>\n",
       "      <td>3.754</td>\n",
       "      <td>3.392647</td>\n",
       "      <td>0.361353</td>\n",
       "    </tr>\n",
       "    <tr>\n",
       "      <th>3</th>\n",
       "      <td>3.573</td>\n",
       "      <td>4.156150</td>\n",
       "      <td>0.583150</td>\n",
       "    </tr>\n",
       "    <tr>\n",
       "      <th>4</th>\n",
       "      <td>3.744</td>\n",
       "      <td>4.151880</td>\n",
       "      <td>0.407880</td>\n",
       "    </tr>\n",
       "    <tr>\n",
       "      <th>...</th>\n",
       "      <td>...</td>\n",
       "      <td>...</td>\n",
       "      <td>...</td>\n",
       "    </tr>\n",
       "    <tr>\n",
       "      <th>95</th>\n",
       "      <td>3.769</td>\n",
       "      <td>2.983062</td>\n",
       "      <td>0.785938</td>\n",
       "    </tr>\n",
       "    <tr>\n",
       "      <th>96</th>\n",
       "      <td>3.096</td>\n",
       "      <td>2.303409</td>\n",
       "      <td>0.792591</td>\n",
       "    </tr>\n",
       "    <tr>\n",
       "      <th>97</th>\n",
       "      <td>1.823</td>\n",
       "      <td>2.042830</td>\n",
       "      <td>0.219830</td>\n",
       "    </tr>\n",
       "    <tr>\n",
       "      <th>98</th>\n",
       "      <td>1.727</td>\n",
       "      <td>1.751107</td>\n",
       "      <td>0.024107</td>\n",
       "    </tr>\n",
       "    <tr>\n",
       "      <th>99</th>\n",
       "      <td>1.508</td>\n",
       "      <td>1.604622</td>\n",
       "      <td>0.096622</td>\n",
       "    </tr>\n",
       "  </tbody>\n",
       "</table>\n",
       "<p>100 rows × 3 columns</p>\n",
       "</div>"
      ],
      "text/plain": [
       "     Real   Predict  Difference\n",
       "0   2.613  2.786964    0.173964\n",
       "1   2.322  3.126065    0.804065\n",
       "2   3.754  3.392647    0.361353\n",
       "3   3.573  4.156150    0.583150\n",
       "4   3.744  4.151880    0.407880\n",
       "..    ...       ...         ...\n",
       "95  3.769  2.983062    0.785938\n",
       "96  3.096  2.303409    0.792591\n",
       "97  1.823  2.042830    0.219830\n",
       "98  1.727  1.751107    0.024107\n",
       "99  1.508  1.604622    0.096622\n",
       "\n",
       "[100 rows x 3 columns]"
      ]
     },
     "execution_count": 37,
     "metadata": {},
     "output_type": "execute_result"
    }
   ],
   "source": [
    "y_pred_lib = model.predict(dataset_X_test)\n",
    "pd.DataFrame(data = np.array([dataset_y_test, y_pred_lib, abs(dataset_y_test - y_pred_lib)]).T,\n",
    "             columns = [\"Real\", \"Predict\", \"Difference\"])"
   ]
  },
  {
   "cell_type": "markdown",
   "metadata": {},
   "source": [
    "## Dự đoán các mẫu dữ liệu tính theo linear regression tự viết"
   ]
  },
  {
   "cell_type": "code",
   "execution_count": 36,
   "metadata": {},
   "outputs": [
    {
     "name": "stdout",
     "output_type": "stream",
     "text": [
      "Intel MKL WARNING: Support of Intel(R) Streaming SIMD Extensions 4.2 (Intel(R) SSE4.2) enabled only processors has been deprecated. Intel oneAPI Math Kernel Library 2025.0 will require Intel(R) Advanced Vector Extensions (Intel(R) AVX) instructions.\n"
     ]
    },
    {
     "data": {
      "text/html": [
       "<div>\n",
       "<style scoped>\n",
       "    .dataframe tbody tr th:only-of-type {\n",
       "        vertical-align: middle;\n",
       "    }\n",
       "\n",
       "    .dataframe tbody tr th {\n",
       "        vertical-align: top;\n",
       "    }\n",
       "\n",
       "    .dataframe thead th {\n",
       "        text-align: right;\n",
       "    }\n",
       "</style>\n",
       "<table border=\"1\" class=\"dataframe\">\n",
       "  <thead>\n",
       "    <tr style=\"text-align: right;\">\n",
       "      <th></th>\n",
       "      <th>Real</th>\n",
       "      <th>Predict</th>\n",
       "      <th>Difference</th>\n",
       "    </tr>\n",
       "  </thead>\n",
       "  <tbody>\n",
       "    <tr>\n",
       "      <th>0</th>\n",
       "      <td>2.613</td>\n",
       "      <td>2.786964</td>\n",
       "      <td>0.173964</td>\n",
       "    </tr>\n",
       "    <tr>\n",
       "      <th>1</th>\n",
       "      <td>2.322</td>\n",
       "      <td>3.126065</td>\n",
       "      <td>0.804065</td>\n",
       "    </tr>\n",
       "    <tr>\n",
       "      <th>2</th>\n",
       "      <td>3.754</td>\n",
       "      <td>3.392647</td>\n",
       "      <td>0.361353</td>\n",
       "    </tr>\n",
       "    <tr>\n",
       "      <th>3</th>\n",
       "      <td>3.573</td>\n",
       "      <td>4.156150</td>\n",
       "      <td>0.583150</td>\n",
       "    </tr>\n",
       "    <tr>\n",
       "      <th>4</th>\n",
       "      <td>3.744</td>\n",
       "      <td>4.151880</td>\n",
       "      <td>0.407880</td>\n",
       "    </tr>\n",
       "    <tr>\n",
       "      <th>...</th>\n",
       "      <td>...</td>\n",
       "      <td>...</td>\n",
       "      <td>...</td>\n",
       "    </tr>\n",
       "    <tr>\n",
       "      <th>95</th>\n",
       "      <td>3.769</td>\n",
       "      <td>2.983062</td>\n",
       "      <td>0.785938</td>\n",
       "    </tr>\n",
       "    <tr>\n",
       "      <th>96</th>\n",
       "      <td>3.096</td>\n",
       "      <td>2.303409</td>\n",
       "      <td>0.792591</td>\n",
       "    </tr>\n",
       "    <tr>\n",
       "      <th>97</th>\n",
       "      <td>1.823</td>\n",
       "      <td>2.042830</td>\n",
       "      <td>0.219830</td>\n",
       "    </tr>\n",
       "    <tr>\n",
       "      <th>98</th>\n",
       "      <td>1.727</td>\n",
       "      <td>1.751107</td>\n",
       "      <td>0.024107</td>\n",
       "    </tr>\n",
       "    <tr>\n",
       "      <th>99</th>\n",
       "      <td>1.508</td>\n",
       "      <td>1.604622</td>\n",
       "      <td>0.096622</td>\n",
       "    </tr>\n",
       "  </tbody>\n",
       "</table>\n",
       "<p>100 rows × 3 columns</p>\n",
       "</div>"
      ],
      "text/plain": [
       "     Real   Predict  Difference\n",
       "0   2.613  2.786964    0.173964\n",
       "1   2.322  3.126065    0.804065\n",
       "2   3.754  3.392647    0.361353\n",
       "3   3.573  4.156150    0.583150\n",
       "4   3.744  4.151880    0.407880\n",
       "..    ...       ...         ...\n",
       "95  3.769  2.983062    0.785938\n",
       "96  3.096  2.303409    0.792591\n",
       "97  1.823  2.042830    0.219830\n",
       "98  1.727  1.751107    0.024107\n",
       "99  1.508  1.604622    0.096622\n",
       "\n",
       "[100 rows x 3 columns]"
      ]
     },
     "execution_count": 36,
     "metadata": {},
     "output_type": "execute_result"
    }
   ],
   "source": [
    "coef, intercept = linear_regression(dataset_X_train, dataset_y_train)\n",
    "y_pred = predict(coef, intercept, dataset_X_test)\n",
    "pd.DataFrame(data= np.array([dataset_y_test, y_pred, abs(dataset_y_test - y_pred)]).T, \n",
    "             columns= [\"Real\", \"Predict\", \"Difference\"])"
   ]
  },
  {
   "cell_type": "markdown",
   "metadata": {},
   "source": [
    "## Đánh giá mô hình linear regression của thư viện"
   ]
  },
  {
   "cell_type": "code",
   "execution_count": 38,
   "metadata": {},
   "outputs": [
    {
     "name": "stdout",
     "output_type": "stream",
     "text": [
      "loss:  0.7152910255531518\n"
     ]
    }
   ],
   "source": [
    "loss = math.sqrt(mean_squared_error(dataset_y_test, y_pred_lib))\n",
    "print(\"loss: \", loss)"
   ]
  },
  {
   "cell_type": "markdown",
   "metadata": {},
   "source": [
    "## Đánh giá mô hình linear regression tự viết"
   ]
  },
  {
   "cell_type": "code",
   "execution_count": 39,
   "metadata": {},
   "outputs": [
    {
     "name": "stdout",
     "output_type": "stream",
     "text": [
      "lỗi : 0.7152909951159269\n"
     ]
    }
   ],
   "source": [
    "loss = math.sqrt(mean_squared_error(dataset_y_test, y_pred))\n",
    "print(\"lỗi :\",loss)"
   ]
  }
 ],
 "metadata": {
  "kernelspec": {
   "display_name": "d2l",
   "language": "python",
   "name": "python3"
  },
  "language_info": {
   "codemirror_mode": {
    "name": "ipython",
    "version": 3
   },
   "file_extension": ".py",
   "mimetype": "text/x-python",
   "name": "python",
   "nbconvert_exporter": "python",
   "pygments_lexer": "ipython3",
   "version": "3.8.18"
  }
 },
 "nbformat": 4,
 "nbformat_minor": 4
}
