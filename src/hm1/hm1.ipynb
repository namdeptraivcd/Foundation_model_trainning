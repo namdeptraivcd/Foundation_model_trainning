{
 "cells": [
  {
   "cell_type": "code",
   "execution_count": 2,
   "id": "353f5c4d",
   "metadata": {},
   "outputs": [
    {
     "name": "stdout",
     "output_type": "stream",
     "text": [
      "Intel MKL WARNING: Support of Intel(R) Streaming SIMD Extensions 4.2 (Intel(R) SSE4.2) enabled only processors has been deprecated. Intel oneAPI Math Kernel Library 2025.0 will require Intel(R) Advanced Vector Extensions (Intel(R) AVX) instructions.\n",
      "Intel MKL WARNING: Support of Intel(R) Streaming SIMD Extensions 4.2 (Intel(R) SSE4.2) enabled only processors has been deprecated. Intel oneAPI Math Kernel Library 2025.0 will require Intel(R) Advanced Vector Extensions (Intel(R) AVX) instructions.\n"
     ]
    }
   ],
   "source": [
    "#Set up framework\n",
    "import os\n",
    "from sklearn.datasets import load_files\n",
    "from sklearn.feature_extraction.text import CountVectorizer\n",
    "from sklearn.feature_extraction.text import TfidfTransformer\n",
    "from sklearn.pipeline import Pipeline"
   ]
  },
  {
   "cell_type": "code",
   "execution_count": 5,
   "id": "3c97afd2",
   "metadata": {},
   "outputs": [
    {
     "name": "stdout",
     "output_type": "stream",
     "text": [
      "Labels and corresponding texts in data\n",
      "---------------------------------------\n",
      "doi-song : 120\n",
      "du-lich : 54\n",
      "phap-luat : 59\n",
      "the-thao : 173\n",
      "thoi-su : 59\n",
      "suc-khoe : 162\n",
      "giai-tri : 201\n",
      "giao-duc : 105\n",
      "kinh-doanh : 262\n",
      "khoa-hoc : 144\n",
      "------------------------\n",
      "the total number of text 1339\n"
     ]
    }
   ],
   "source": [
    "PATH = 'data/news_vnexpress'\n",
    "os.makedirs('images', exist_ok = True)\n",
    "\n",
    "print(\"Labels and corresponding texts in data\")\n",
    "print(\"---------------------------------------\")\n",
    "n = 0\n",
    "SKIP_FOLDER = [\".DS_Store\", \"news_1135\"] # Since it always appear when we compile\n",
    "for label in os.listdir(PATH):\n",
    "    if label in SKIP_FOLDER:\n",
    "        continue\n",
    "\n",
    "\n",
    "    label_path = os.path.join(PATH, label)\n",
    "    print(f\"{label} : {len(os.listdir(label_path))}\")\n",
    "    n += len(os.listdir(label_path))\n",
    "\n",
    "print(\"------------------------\")\n",
    "print(f\"the total number of text {n}\")"
   ]
  },
  {
   "cell_type": "code",
   "execution_count": null,
   "id": "171d203a",
   "metadata": {},
   "outputs": [
    {
     "name": "stdout",
     "output_type": "stream",
     "text": [
      "mapping: \n",
      "doi-song - 0\n",
      "du-lich - 1\n",
      "giai-tri - 2\n",
      "giao-duc - 3\n",
      "khoa-hoc - 4\n",
      "kinh-doanh - 5\n",
      "phap-luat - 6\n",
      "suc-khoe - 7\n",
      "the-thao - 8\n",
      "thoi-su - 9\n",
      "-------------\n",
      "['../data/news_vnexpress/khoa-hoc/00133.txt'\n",
      " '../data/news_vnexpress/suc-khoe/00102.txt']\n",
      "[4 7]\n",
      "['Mời độc giả đặt câu hỏi tại đây\\n', '(Nguồn và ảnh: Trung tâm cấy tóc New Hair)\\n', 'Lợi suất trái phiếu chính phủ Mỹ kỳ hạn 10 năm tăng vọt lên mức cao nhất trong vòng một năm tiếp tục tạo áp lực lên thị trường kim loại quý trong phiên cuối tuần. Giá vàng thế giới đêm qua có lúc rơi thẳng đứng xuống vùng 1.716 USD một ounce, sau đó hồi phục dần và đóng cửa tại 1.735 USD, giảm gần 35 USD so với phiên trước. Đây là phiên giảm thứ tư trong tuần, trùng với dự đoán trước đó của nhiều chuyên gia Phố Wall.Thị trường kim loại quý trong nước cũng bị tác động mạnh bởi diễn biến thế giới. Công ty Vàng bạc đá quý Sài Gòn (SJC) sáng nay mua vào 55,65 triệu đồng và bán ra 56,15 triệu đồng, lần lượt mất 300.000 đồng và 200.000 đồng so với hôm qua.Tập đoàn Vàng bạc đá quý DOJI niêm yết giá mua vào thấp hơn, chỉ 55,5 triệu đồng và bán ra 56,15 triệu đồng. Mỗi lượng vàng giao dịch tại đây giảm 200.000 đồng.Giá biến động mạnh hơn ở những cửa hàng nhỏ. Tiệm vàng Mi Hồng ở quận Bình Thạnh, TP HCM lúc 9h mua vào 54,8 triệu đồng và bán ra 56 triệu đồng, chênh lệch đến 1,2 triệu đồng mỗi lượng. Sau đó giá mua được nâng lên 55,8 triệu đồng, cao hơn các trung tâm kim hoàn lớn.Quy đổi theo tỷ giá Vietcombank, mỗi lượng vàng trong nước đang cao hơn thế giới khoảng 7,3 triệu đồng.Giá vàng đang vận động theo chiều hướng tiêu cực do áp lực cạnh tranh của tiền điện tử và triển vọng miễn dịch cộng đồng nhờ vaccine. Tuy nhiên, báo cáo của một số nhóm phân tích vẫn lạc quan về triển vọng trong và dài hạn. Ngân hàng ANZ mới đây cho rằng lạm phát chính là yếu tố có thể khiến vàng bật tăng trở lại, thậm chí chạm mốc 2.100 USD một ounce vào cuối năm.Thiên Ngân\\n', 'Leanne và Steve Ford là hai nhà thiết kế nội thất ở Pittsburgh (Mỹ). Họ nổi tiếng nhờ các series về sửa nhà chiếu trên kênh HGTV.Theo Leanne và Steve, một trong những yêu cầu hàng đầu của các gia chủ khi sửa nhà là có nơi ở rộng rãi hơn. Để đạt được mục đích này, nhiều người bỏ hết các vách ngăn và tạo nên không gian mở. Tuy nhiên, đây chưa chắc là phương án phù hợp với mọi căn nhà, nhất là những gia đình ưa sự riêng tư và kín đáo.\"Nếu muốn không gian rộng hơn, hãy nhìn lên\", Leanne nói. \"Mọi người hay bỏ qua trần nhưng thực ra nó quan trọng như tường\".Theo nữ chuyên gia, thay vì phá tường, các gia chủ hãy xem xét việc sửa trần. Bạn có thể nâng trần, để lộ dầm hoặc thêm họa văn trên trần để không gian trông cao, rộng và hấp dẫn hơn.Lưu ý, dù cải tạo bất cứ phần nào, hãy ghi nhớ rõ lý do bạn cần sửa nhà. \"Bạn hãy tự hỏi mình hình dung căn nhà sẽ như thế nào, bạn muốn gì khi sống ở đây và bạn sẽ tận hưởng nó ra sao\", Leanne khuyên.Leanne tiết lộ thêm sai lầm lớn nhất mà các gia chủ gặp phải là \"tạo ra cuộc sống họ không thực sự có\". Ví dụ, người thích dành thời gian ở bếp lại đầu tư nhiều tiền cho khu phòng khách. Như vậy, căn nhà vừa không đáp ứng nhu cầu của người ở, vừa gây lãng phí diện tích.\"Khi sửa nhà, đừng cố làm theo những gì bạn bè và người thân nghĩ bạn nên làm. Hãy xem bản thân thích gì và thứ gì khiến bạn hạnh phúc\", Leanne nói.Thu Nguyệt (Theo Insider)\\n']\n",
      "\n",
      "Total number of texts: 1339\n"
     ]
    }
   ],
   "source": [
    "#Mapping each folder to each topic\n",
    "data_train = load_files(PATH, encoding = 'utf-8')\n",
    "print(\"mapping: \")\n",
    "for i in range (len(data_train.target_names)):\n",
    "    print (f\"{data_train.target_names[i]} - {i}\")\n",
    "print(\"-------------\")\n",
    "print(data_train.filenames[0:2])\n",
    "print(data_train.target[0:2])\n",
    "print(data_train.data[0:4])\n",
    "\n",
    "print(\"\\nTotal number of texts: {}\".format (len(data_train.filenames)))\n"
   ]
  },
  {
   "cell_type": "code",
   "execution_count": null,
   "id": "e332c8e8",
   "metadata": {},
   "outputs": [
    {
     "name": "stdout",
     "output_type": "stream",
     "text": [
      "  (0, 12712)\t0.47047455226652657\n",
      "  (0, 7462)\t0.6112865759350837\n",
      "  (0, 4378)\t0.44175809334129823\n",
      "  (0, 3084)\t0.4580744532481954\n",
      "  (1, 12757)\t0.19959191347747637\n",
      "  (1, 11287)\t0.4256508305403935\n",
      "  (1, 11265)\t0.1972436097105691\n",
      "  (1, 11017)\t0.17788144665421204\n",
      "  (1, 7587)\t0.3536665596417244\n",
      "  (1, 4688)\t0.5742737890587298\n",
      "  (1, 3146)\t0.5035545329857912\n",
      "  (2, 12733)\t0.04254871323803657\n",
      "  (2, 12715)\t0.07471016740707088\n",
      "  (2, 12707)\t0.035932476459800085\n",
      "  (2, 12702)\t0.3068946441573237\n",
      "  (2, 12585)\t0.04212345393714015\n",
      "  (2, 12563)\t0.05296024535791139\n",
      "  (2, 12541)\t0.09549979722066429\n",
      "  (2, 12520)\t0.053552811637520965\n",
      "  (2, 12518)\t0.042193488022969065\n",
      "  (2, 12510)\t0.038651468124797535\n",
      "  (2, 12449)\t0.07774842378915332\n",
      "  (2, 12395)\t0.03974066832843246\n",
      "  (2, 12394)\t0.06610314137976664\n",
      "  (2, 11953)\t0.08735987392025059\n",
      "  :\t:\n",
      "  (1338, 2735)\t0.05261692105156407\n",
      "  (1338, 2730)\t0.04640629147638674\n",
      "  (1338, 2720)\t0.0522637274962748\n",
      "  (1338, 2520)\t0.21204953242998514\n",
      "  (1338, 2518)\t0.10632906560740137\n",
      "  (1338, 1786)\t0.03265136435075896\n",
      "  (1338, 1734)\t0.08504380879374873\n",
      "  (1338, 881)\t0.06068091959370562\n",
      "  (1338, 858)\t0.10207786158908241\n",
      "  (1338, 757)\t0.06720176461693715\n",
      "  (1338, 738)\t0.04596044211209135\n",
      "  (1338, 611)\t0.09265300950970164\n",
      "  (1338, 533)\t0.0472235357927954\n",
      "  (1338, 518)\t0.07468084771452906\n",
      "  (1338, 517)\t0.049022008142749186\n",
      "  (1338, 450)\t0.049160051839653496\n",
      "  (1338, 392)\t0.04944041615089698\n",
      "  (1338, 224)\t0.04531793578366535\n",
      "  (1338, 199)\t0.08322815743032087\n",
      "  (1338, 140)\t0.046070541396685476\n",
      "  (1338, 101)\t0.08162663942713852\n",
      "  (1338, 100)\t0.041432442357798215\n",
      "  (1338, 82)\t0.041121635971768045\n",
      "  (1338, 81)\t0.030345078701961584\n",
      "  (1338, 1)\t0.03450237903023464\n",
      "\n",
      " The number of words in vocabulary: 12797 \n",
      "The size of preprocessed data: (1339, 12797)\n",
      "The size of corresponding label: (1339,)\n"
     ]
    }
   ],
   "source": [
    "# TF-IDF: The importance of word in specific text \n",
    "\n",
    "with open (\"../data/vietnamese-stopwords.txt\", encoding='utf-8') as f:\n",
    "    stop_words = f.readlines()\n",
    "\n",
    "    stopwords = [x.strip().replace(\" \", \"_\")for x in stop_words ]\n",
    "\n",
    "module_count_vector = CountVectorizer(stop_words= stopwords)\n",
    "model_rf_prerprocess = Pipeline([\n",
    "    ('vect', module_count_vector),\n",
    "    (\"tfidf\", TfidfTransformer()),\n",
    "])\n",
    "\n",
    "data_preprocessed = model_rf_prerprocess.fit_transform(data_train.data, data_train.target)\n",
    "X = data_preprocessed\n",
    "Y = data_train.target\n",
    "print(X)\n",
    "\n",
    "\n",
    "\n",
    "print(f\"\\n The number of words in vocabulary: {len(module_count_vector.vocabulary_)} \")\n",
    "print(f\"The size of preprocessed data: {X.shape}\")\n",
    "print(f\"The size of corresponding label: {Y.shape}\")\n"
   ]
  }
 ],
 "metadata": {
  "kernelspec": {
   "display_name": "d2l",
   "language": "python",
   "name": "python3"
  },
  "language_info": {
   "codemirror_mode": {
    "name": "ipython",
    "version": 3
   },
   "file_extension": ".py",
   "mimetype": "text/x-python",
   "name": "python",
   "nbconvert_exporter": "python",
   "pygments_lexer": "ipython3",
   "version": "3.8.18"
  }
 },
 "nbformat": 4,
 "nbformat_minor": 5
}
